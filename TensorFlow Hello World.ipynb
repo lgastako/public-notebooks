{
 "cells": [
  {
   "cell_type": "code",
   "execution_count": 15,
   "metadata": {},
   "outputs": [],
   "source": [
    "import           Control.Monad.IO.Class           ( liftIO )\n",
    "import qualified Data.Vector            as Vector\n",
    "import           TensorFlow.Ops                   ( vector )\n",
    "import           TensorFlow.Session               ( run\n",
    "                                                  , runSession \n",
    "                                                  )\n",
    "\n",
    "doItDoug = runSession $ do\n",
    "  let node1 = vector ([3, 4] :: [Float])\n",
    "      node2 = vector [1, 1]\n",
    "      node3 = node1 + node2\n",
    "      node4 = 3 * node3\n",
    "  result <- run node4\n",
    "  liftIO . print . Vector.toList $ result"
   ]
  },
  {
   "cell_type": "code",
   "execution_count": 16,
   "metadata": {},
   "outputs": [
    {
     "data": {
      "text/plain": [
       "[12.0,15.0]"
      ]
     },
     "metadata": {},
     "output_type": "display_data"
    }
   ],
   "source": [
    "doItDoug"
   ]
  },
  {
   "cell_type": "code",
   "execution_count": null,
   "metadata": {
    "collapsed": true
   },
   "outputs": [],
   "source": []
  }
 ],
 "metadata": {
  "kernelspec": {
   "display_name": "Haskell",
   "language": "haskell",
   "name": "haskell"
  },
  "language_info": {
   "codemirror_mode": "ihaskell",
   "file_extension": ".hs",
   "name": "haskell",
   "version": "8.0.2"
  }
 },
 "nbformat": 4,
 "nbformat_minor": 2
}
